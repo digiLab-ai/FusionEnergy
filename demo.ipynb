{
 "cells": [
  {
   "attachments": {},
   "cell_type": "markdown",
   "metadata": {},
   "source": [
    "# Tritium desorption in fusion reactor walls\n",
    "\n",
    "In this example, we look at the ability of `twinLab` to model the [desorption](https://en.wikipedia.org/wiki/Desorption) (the physical process where a previously adsorbed substance is released from a surface) of tritium (a radioactive isotope of hydrogen) in the wall of a nuclear fusion reactor. Fusion generates almost no radioactive waste, and the little waste that it does produce has a short half-life. However, the interior of the reactor wall is bombarded by a high-neutron flux during fusion, far higher than any naturally-occurring radioactive process, and therefore the properties of materials under high neutron bombardment are unknown. Computer simulations are required to understand the material properties in such extreme circumstances, but simulations are expensive in terms of computational power, and cannot be run at every point in parameter space under consideration. `twinLab` can be used to train simulation surrogate models using data from a sparse array of simulations. This allows for meaningful interpolation and extrapolation to unexplored regions of parameter space, together with a calibrated uncertainty estimate on the accuracy of the simulation surrogate."
   ]
  },
  {
   "attachments": {},
   "cell_type": "markdown",
   "metadata": {},
   "source": [
    "First, import the required libraries"
   ]
  },
  {
   "cell_type": "code",
   "execution_count": 1,
   "metadata": {},
   "outputs": [
    {
     "name": "stdout",
     "output_type": "stream",
     "text": [
      "\n",
      "         === TwinLab Client Initialisation ===\n",
      "         Version  : 1.3.1\n",
      "         User     : alexander\n",
      "         Server   : https://qisuqloa39.execute-api.eu-west-2.amazonaws.com/prod\n",
      "         Key      : dg4Je8SwoFZ-o_KdVOpvkg\n",
      "\n"
     ]
    }
   ],
   "source": [
    "# Standard imports\n",
    "import os\n",
    "from pprint import pprint\n",
    "\n",
    "# Third-party imports\n",
    "import numpy as np\n",
    "import matplotlib.pyplot as plt\n",
    "import pandas as pd\n",
    "\n",
    "# Project imports\n",
    "import twinlab as tl"
   ]
  },
  {
   "attachments": {},
   "cell_type": "markdown",
   "metadata": {},
   "source": [
    "Now, define some parameters. We need to provide `twinLab` with locations of data files (in `.csv` format) and directories, together with a chosen surrogate campaign name (here `ukaea`) and a list of the input parameters that we are going to use as inputs to our model. Here these 5 parameters are $E_1$, $E_2$, $E_3$, $n_1$, and $n_2$ and quantify properties of the material that can trap tritium nuclei. The $E_i$ parameters are energies while the $n_i$ parameters are particle number densities. $E_1$ and $n_1$ pertain to the same trap, as do $E_2$ and $n_2$, but in the model parameterized by $E_3$ the value of $n_3$ is calculated internally, and evolves with time, and therefore this is not an input parameter for our training regime."
   ]
  },
  {
   "cell_type": "code",
   "execution_count": 2,
   "metadata": {},
   "outputs": [],
   "source": [
    "# Files and file paths\n",
    "file_train = os.path.join(\"resources\", \"datasets\", \"ukaea.csv\")\n",
    "campaign_dir = os.path.join(\"resources\", \"campaigns\", \"ukaea\")\n",
    "file_grid = os.path.join(campaign_dir, \"grid.csv\")\n",
    "# file_eval = campaign_dir + \"eval.csv\"\n",
    "# file_eval = campaign_dir + \"post.csv\"\n",
    "file_eval = os.path.join(campaign_dir, \"test.csv\")\n",
    "\n",
    "# Parameters\n",
    "dataset_id = \"fusion\"\n",
    "campaign_id = dataset_id\n",
    "inputs = [\"E1\", \"E2\", \"E3\", \"n1\", \"n2\"]"
   ]
  },
  {
   "attachments": {},
   "cell_type": "markdown",
   "metadata": {},
   "source": [
    "Load the necessary data from `.csv` files for training and plotting"
   ]
  },
  {
   "cell_type": "code",
   "execution_count": 3,
   "metadata": {},
   "outputs": [
    {
     "data": {
      "text/html": [
       "<div>\n",
       "<style scoped>\n",
       "    .dataframe tbody tr th:only-of-type {\n",
       "        vertical-align: middle;\n",
       "    }\n",
       "\n",
       "    .dataframe tbody tr th {\n",
       "        vertical-align: top;\n",
       "    }\n",
       "\n",
       "    .dataframe thead th {\n",
       "        text-align: right;\n",
       "    }\n",
       "</style>\n",
       "<table border=\"1\" class=\"dataframe\">\n",
       "  <thead>\n",
       "    <tr style=\"text-align: right;\">\n",
       "      <th></th>\n",
       "      <th>E1</th>\n",
       "      <th>E2</th>\n",
       "      <th>E3</th>\n",
       "      <th>n1</th>\n",
       "      <th>n2</th>\n",
       "      <th>y0</th>\n",
       "      <th>y1</th>\n",
       "      <th>y2</th>\n",
       "      <th>y3</th>\n",
       "      <th>y4</th>\n",
       "      <th>...</th>\n",
       "      <th>y614</th>\n",
       "      <th>y615</th>\n",
       "      <th>y616</th>\n",
       "      <th>y617</th>\n",
       "      <th>y618</th>\n",
       "      <th>y619</th>\n",
       "      <th>y620</th>\n",
       "      <th>y621</th>\n",
       "      <th>y622</th>\n",
       "      <th>y623</th>\n",
       "    </tr>\n",
       "  </thead>\n",
       "  <tbody>\n",
       "    <tr>\n",
       "      <th>0</th>\n",
       "      <td>0.943244</td>\n",
       "      <td>0.999344</td>\n",
       "      <td>1.496880</td>\n",
       "      <td>0.000609</td>\n",
       "      <td>0.000431</td>\n",
       "      <td>8.767405e+14</td>\n",
       "      <td>9.683132e+14</td>\n",
       "      <td>1.059957e+15</td>\n",
       "      <td>1.165661e+15</td>\n",
       "      <td>1.283038e+15</td>\n",
       "      <td>...</td>\n",
       "      <td>4.369955e+16</td>\n",
       "      <td>4.317858e+16</td>\n",
       "      <td>4.276888e+16</td>\n",
       "      <td>4.247459e+16</td>\n",
       "      <td>4.218029e+16</td>\n",
       "      <td>4.188600e+16</td>\n",
       "      <td>4.159170e+16</td>\n",
       "      <td>4.129741e+16</td>\n",
       "      <td>4.100311e+16</td>\n",
       "      <td>4.070882e+16</td>\n",
       "    </tr>\n",
       "    <tr>\n",
       "      <th>1</th>\n",
       "      <td>0.806345</td>\n",
       "      <td>1.120079</td>\n",
       "      <td>1.169154</td>\n",
       "      <td>0.003404</td>\n",
       "      <td>0.000660</td>\n",
       "      <td>9.210712e+16</td>\n",
       "      <td>9.995254e+16</td>\n",
       "      <td>1.084585e+17</td>\n",
       "      <td>1.176555e+17</td>\n",
       "      <td>1.275583e+17</td>\n",
       "      <td>...</td>\n",
       "      <td>1.128383e+17</td>\n",
       "      <td>1.112052e+17</td>\n",
       "      <td>1.095722e+17</td>\n",
       "      <td>1.097652e+17</td>\n",
       "      <td>1.100055e+17</td>\n",
       "      <td>1.102458e+17</td>\n",
       "      <td>1.104861e+17</td>\n",
       "      <td>1.107265e+17</td>\n",
       "      <td>1.109668e+17</td>\n",
       "      <td>1.112071e+17</td>\n",
       "    </tr>\n",
       "    <tr>\n",
       "      <th>2</th>\n",
       "      <td>0.729418</td>\n",
       "      <td>1.071554</td>\n",
       "      <td>1.604596</td>\n",
       "      <td>0.002666</td>\n",
       "      <td>0.000797</td>\n",
       "      <td>1.685389e+17</td>\n",
       "      <td>1.814004e+17</td>\n",
       "      <td>1.952128e+17</td>\n",
       "      <td>2.100128e+17</td>\n",
       "      <td>2.258109e+17</td>\n",
       "      <td>...</td>\n",
       "      <td>9.592846e+16</td>\n",
       "      <td>9.391916e+16</td>\n",
       "      <td>9.190986e+16</td>\n",
       "      <td>9.092210e+16</td>\n",
       "      <td>9.032004e+16</td>\n",
       "      <td>8.971799e+16</td>\n",
       "      <td>8.911593e+16</td>\n",
       "      <td>8.851388e+16</td>\n",
       "      <td>8.791183e+16</td>\n",
       "      <td>8.730977e+16</td>\n",
       "    </tr>\n",
       "    <tr>\n",
       "      <th>3</th>\n",
       "      <td>0.864302</td>\n",
       "      <td>1.247695</td>\n",
       "      <td>1.267029</td>\n",
       "      <td>0.004300</td>\n",
       "      <td>0.000125</td>\n",
       "      <td>3.530973e+16</td>\n",
       "      <td>3.855547e+16</td>\n",
       "      <td>4.210757e+16</td>\n",
       "      <td>4.597684e+16</td>\n",
       "      <td>5.017253e+16</td>\n",
       "      <td>...</td>\n",
       "      <td>1.498126e+17</td>\n",
       "      <td>1.476732e+17</td>\n",
       "      <td>1.455338e+17</td>\n",
       "      <td>1.437080e+17</td>\n",
       "      <td>1.432555e+17</td>\n",
       "      <td>1.428030e+17</td>\n",
       "      <td>1.423504e+17</td>\n",
       "      <td>1.418979e+17</td>\n",
       "      <td>1.414454e+17</td>\n",
       "      <td>1.409929e+17</td>\n",
       "    </tr>\n",
       "    <tr>\n",
       "      <th>4</th>\n",
       "      <td>0.893397</td>\n",
       "      <td>1.012177</td>\n",
       "      <td>1.190578</td>\n",
       "      <td>0.004729</td>\n",
       "      <td>0.000265</td>\n",
       "      <td>1.770521e+16</td>\n",
       "      <td>1.939110e+16</td>\n",
       "      <td>2.124748e+16</td>\n",
       "      <td>2.327789e+16</td>\n",
       "      <td>2.548775e+16</td>\n",
       "      <td>...</td>\n",
       "      <td>5.430334e+16</td>\n",
       "      <td>5.392261e+16</td>\n",
       "      <td>5.354189e+16</td>\n",
       "      <td>5.316116e+16</td>\n",
       "      <td>5.278044e+16</td>\n",
       "      <td>5.239971e+16</td>\n",
       "      <td>5.201899e+16</td>\n",
       "      <td>5.163826e+16</td>\n",
       "      <td>5.125754e+16</td>\n",
       "      <td>5.087681e+16</td>\n",
       "    </tr>\n",
       "    <tr>\n",
       "      <th>...</th>\n",
       "      <td>...</td>\n",
       "      <td>...</td>\n",
       "      <td>...</td>\n",
       "      <td>...</td>\n",
       "      <td>...</td>\n",
       "      <td>...</td>\n",
       "      <td>...</td>\n",
       "      <td>...</td>\n",
       "      <td>...</td>\n",
       "      <td>...</td>\n",
       "      <td>...</td>\n",
       "      <td>...</td>\n",
       "      <td>...</td>\n",
       "      <td>...</td>\n",
       "      <td>...</td>\n",
       "      <td>...</td>\n",
       "      <td>...</td>\n",
       "      <td>...</td>\n",
       "      <td>...</td>\n",
       "      <td>...</td>\n",
       "      <td>...</td>\n",
       "    </tr>\n",
       "    <tr>\n",
       "      <th>4091</th>\n",
       "      <td>0.893503</td>\n",
       "      <td>1.130860</td>\n",
       "      <td>1.354340</td>\n",
       "      <td>0.000518</td>\n",
       "      <td>0.000561</td>\n",
       "      <td>2.765631e+15</td>\n",
       "      <td>3.015804e+15</td>\n",
       "      <td>3.299841e+15</td>\n",
       "      <td>3.613701e+15</td>\n",
       "      <td>3.955823e+15</td>\n",
       "      <td>...</td>\n",
       "      <td>1.216010e+17</td>\n",
       "      <td>1.205185e+17</td>\n",
       "      <td>1.194360e+17</td>\n",
       "      <td>1.183536e+17</td>\n",
       "      <td>1.172711e+17</td>\n",
       "      <td>1.161886e+17</td>\n",
       "      <td>1.151061e+17</td>\n",
       "      <td>1.140237e+17</td>\n",
       "      <td>1.129412e+17</td>\n",
       "      <td>1.118587e+17</td>\n",
       "    </tr>\n",
       "    <tr>\n",
       "      <th>4092</th>\n",
       "      <td>0.864224</td>\n",
       "      <td>0.916487</td>\n",
       "      <td>1.116019</td>\n",
       "      <td>0.001233</td>\n",
       "      <td>0.000702</td>\n",
       "      <td>1.278325e+16</td>\n",
       "      <td>1.395800e+16</td>\n",
       "      <td>1.525427e+16</td>\n",
       "      <td>1.666896e+16</td>\n",
       "      <td>1.820456e+16</td>\n",
       "      <td>...</td>\n",
       "      <td>2.787106e+16</td>\n",
       "      <td>2.756250e+16</td>\n",
       "      <td>2.725395e+16</td>\n",
       "      <td>2.694540e+16</td>\n",
       "      <td>2.663685e+16</td>\n",
       "      <td>2.638756e+16</td>\n",
       "      <td>2.637311e+16</td>\n",
       "      <td>2.635866e+16</td>\n",
       "      <td>2.634420e+16</td>\n",
       "      <td>2.632975e+16</td>\n",
       "    </tr>\n",
       "    <tr>\n",
       "      <th>4093</th>\n",
       "      <td>0.729359</td>\n",
       "      <td>1.190237</td>\n",
       "      <td>1.428134</td>\n",
       "      <td>0.002938</td>\n",
       "      <td>0.000474</td>\n",
       "      <td>1.818643e+17</td>\n",
       "      <td>1.957515e+17</td>\n",
       "      <td>2.106642e+17</td>\n",
       "      <td>2.266445e+17</td>\n",
       "      <td>2.437041e+17</td>\n",
       "      <td>...</td>\n",
       "      <td>1.832247e+17</td>\n",
       "      <td>1.814117e+17</td>\n",
       "      <td>1.795988e+17</td>\n",
       "      <td>1.777858e+17</td>\n",
       "      <td>1.759729e+17</td>\n",
       "      <td>1.741599e+17</td>\n",
       "      <td>1.723470e+17</td>\n",
       "      <td>1.705340e+17</td>\n",
       "      <td>1.687211e+17</td>\n",
       "      <td>1.669081e+17</td>\n",
       "    </tr>\n",
       "    <tr>\n",
       "      <th>4094</th>\n",
       "      <td>0.806240</td>\n",
       "      <td>1.038786</td>\n",
       "      <td>1.335457</td>\n",
       "      <td>0.001989</td>\n",
       "      <td>0.000280</td>\n",
       "      <td>6.772855e+16</td>\n",
       "      <td>7.349775e+16</td>\n",
       "      <td>7.976372e+16</td>\n",
       "      <td>8.654131e+16</td>\n",
       "      <td>9.384140e+16</td>\n",
       "      <td>...</td>\n",
       "      <td>4.172277e+16</td>\n",
       "      <td>4.131412e+16</td>\n",
       "      <td>4.090546e+16</td>\n",
       "      <td>4.049681e+16</td>\n",
       "      <td>4.008815e+16</td>\n",
       "      <td>3.967950e+16</td>\n",
       "      <td>3.927084e+16</td>\n",
       "      <td>3.886219e+16</td>\n",
       "      <td>3.845353e+16</td>\n",
       "      <td>3.804488e+16</td>\n",
       "    </tr>\n",
       "    <tr>\n",
       "      <th>4095</th>\n",
       "      <td>0.943194</td>\n",
       "      <td>1.268161</td>\n",
       "      <td>1.658048</td>\n",
       "      <td>0.004854</td>\n",
       "      <td>0.000951</td>\n",
       "      <td>3.595938e+15</td>\n",
       "      <td>3.953055e+15</td>\n",
       "      <td>4.353449e+15</td>\n",
       "      <td>4.795248e+15</td>\n",
       "      <td>5.278924e+15</td>\n",
       "      <td>...</td>\n",
       "      <td>6.079710e+17</td>\n",
       "      <td>5.997691e+17</td>\n",
       "      <td>5.915672e+17</td>\n",
       "      <td>5.833653e+17</td>\n",
       "      <td>5.751634e+17</td>\n",
       "      <td>5.672709e+17</td>\n",
       "      <td>5.603731e+17</td>\n",
       "      <td>5.534754e+17</td>\n",
       "      <td>5.465776e+17</td>\n",
       "      <td>5.396799e+17</td>\n",
       "    </tr>\n",
       "  </tbody>\n",
       "</table>\n",
       "<p>4096 rows × 629 columns</p>\n",
       "</div>"
      ],
      "text/plain": [
       "            E1        E2        E3        n1        n2            y0  \\\n",
       "0     0.943244  0.999344  1.496880  0.000609  0.000431  8.767405e+14   \n",
       "1     0.806345  1.120079  1.169154  0.003404  0.000660  9.210712e+16   \n",
       "2     0.729418  1.071554  1.604596  0.002666  0.000797  1.685389e+17   \n",
       "3     0.864302  1.247695  1.267029  0.004300  0.000125  3.530973e+16   \n",
       "4     0.893397  1.012177  1.190578  0.004729  0.000265  1.770521e+16   \n",
       "...        ...       ...       ...       ...       ...           ...   \n",
       "4091  0.893503  1.130860  1.354340  0.000518  0.000561  2.765631e+15   \n",
       "4092  0.864224  0.916487  1.116019  0.001233  0.000702  1.278325e+16   \n",
       "4093  0.729359  1.190237  1.428134  0.002938  0.000474  1.818643e+17   \n",
       "4094  0.806240  1.038786  1.335457  0.001989  0.000280  6.772855e+16   \n",
       "4095  0.943194  1.268161  1.658048  0.004854  0.000951  3.595938e+15   \n",
       "\n",
       "                y1            y2            y3            y4  ...  \\\n",
       "0     9.683132e+14  1.059957e+15  1.165661e+15  1.283038e+15  ...   \n",
       "1     9.995254e+16  1.084585e+17  1.176555e+17  1.275583e+17  ...   \n",
       "2     1.814004e+17  1.952128e+17  2.100128e+17  2.258109e+17  ...   \n",
       "3     3.855547e+16  4.210757e+16  4.597684e+16  5.017253e+16  ...   \n",
       "4     1.939110e+16  2.124748e+16  2.327789e+16  2.548775e+16  ...   \n",
       "...            ...           ...           ...           ...  ...   \n",
       "4091  3.015804e+15  3.299841e+15  3.613701e+15  3.955823e+15  ...   \n",
       "4092  1.395800e+16  1.525427e+16  1.666896e+16  1.820456e+16  ...   \n",
       "4093  1.957515e+17  2.106642e+17  2.266445e+17  2.437041e+17  ...   \n",
       "4094  7.349775e+16  7.976372e+16  8.654131e+16  9.384140e+16  ...   \n",
       "4095  3.953055e+15  4.353449e+15  4.795248e+15  5.278924e+15  ...   \n",
       "\n",
       "              y614          y615          y616          y617          y618  \\\n",
       "0     4.369955e+16  4.317858e+16  4.276888e+16  4.247459e+16  4.218029e+16   \n",
       "1     1.128383e+17  1.112052e+17  1.095722e+17  1.097652e+17  1.100055e+17   \n",
       "2     9.592846e+16  9.391916e+16  9.190986e+16  9.092210e+16  9.032004e+16   \n",
       "3     1.498126e+17  1.476732e+17  1.455338e+17  1.437080e+17  1.432555e+17   \n",
       "4     5.430334e+16  5.392261e+16  5.354189e+16  5.316116e+16  5.278044e+16   \n",
       "...            ...           ...           ...           ...           ...   \n",
       "4091  1.216010e+17  1.205185e+17  1.194360e+17  1.183536e+17  1.172711e+17   \n",
       "4092  2.787106e+16  2.756250e+16  2.725395e+16  2.694540e+16  2.663685e+16   \n",
       "4093  1.832247e+17  1.814117e+17  1.795988e+17  1.777858e+17  1.759729e+17   \n",
       "4094  4.172277e+16  4.131412e+16  4.090546e+16  4.049681e+16  4.008815e+16   \n",
       "4095  6.079710e+17  5.997691e+17  5.915672e+17  5.833653e+17  5.751634e+17   \n",
       "\n",
       "              y619          y620          y621          y622          y623  \n",
       "0     4.188600e+16  4.159170e+16  4.129741e+16  4.100311e+16  4.070882e+16  \n",
       "1     1.102458e+17  1.104861e+17  1.107265e+17  1.109668e+17  1.112071e+17  \n",
       "2     8.971799e+16  8.911593e+16  8.851388e+16  8.791183e+16  8.730977e+16  \n",
       "3     1.428030e+17  1.423504e+17  1.418979e+17  1.414454e+17  1.409929e+17  \n",
       "4     5.239971e+16  5.201899e+16  5.163826e+16  5.125754e+16  5.087681e+16  \n",
       "...            ...           ...           ...           ...           ...  \n",
       "4091  1.161886e+17  1.151061e+17  1.140237e+17  1.129412e+17  1.118587e+17  \n",
       "4092  2.638756e+16  2.637311e+16  2.635866e+16  2.634420e+16  2.632975e+16  \n",
       "4093  1.741599e+17  1.723470e+17  1.705340e+17  1.687211e+17  1.669081e+17  \n",
       "4094  3.967950e+16  3.927084e+16  3.886219e+16  3.845353e+16  3.804488e+16  \n",
       "4095  5.672709e+17  5.603731e+17  5.534754e+17  5.465776e+17  5.396799e+17  \n",
       "\n",
       "[4096 rows x 629 columns]"
      ]
     },
     "metadata": {},
     "output_type": "display_data"
    }
   ],
   "source": [
    "df_train = pd.read_csv(file_train)\n",
    "df_eval = pd.read_csv(file_eval)\n",
    "df_grid = pd.read_csv(file_grid, header=None)\n",
    "display(df_train)"
   ]
  },
  {
   "attachments": {},
   "cell_type": "markdown",
   "metadata": {},
   "source": [
    "Next, we create the parameter dictionary that we need to give to run twinLab.  At a minimum the user must provide the `filename` of the dataset on which we want to train our model (`.csv` format), together with the columns that we will take to be the `inputs` and `outputs` of our model, once that is trained. By default, `twinLab` will use all of the data for training. This latter choice can be overridden by adding e.g., `train_test_split=1000` so that only the first 1000 entries in `filename` are used for training, and the remaining examples are then used for internal model evaluation.\n",
    "\n",
    "In this case we are training a functional model, which means that we want to return a *function* at every point in parameter space ($E_1$, $E_2$, $E_3$, $n_1$, $n_2$). In this case, our function describes the tritium desorption rate, $D$, of the material of the reactor wall as a function of temperature (rate of emitted nuclei per reactor wall area). The training of the surrogate is agnostic to the values of reactor temperature, $T$, so we must provide this by hand (`df_grid` above, from `file_grid`). The output of our model will therefore be the function $D(T; E_1, E_2, E_3, n_1, n_2)$.\n",
    "\n",
    "The `twinLab` model achieves this by predicting the value of $D$ at $\\sim 500$ points in $T$ in a regularly-spaced grid between $300\\mathrm{K}$ and $800\\mathrm{K}$. The correlations between points adjacent in $T$ are incorporated naturally by the model, and `twinLab` provides a model uncertainty. Here we call the outputs `y`, rather than `D`, as per the typical data-science convention."
   ]
  },
  {
   "cell_type": "code",
   "execution_count": 4,
   "metadata": {},
   "outputs": [],
   "source": [
    "# Column headings for outputs\n",
    "y_outputs = [f\"y{i}\" for i in range(len(df_grid))]\n",
    "\n",
    "# Parameters\n",
    "params = {\n",
    "    \"dataset_id\": dataset_id,\n",
    "    \"inputs\": inputs,\n",
    "    \"outputs\": y_outputs,\n",
    "    \"decompose_outputs\": True,\n",
    "    \"train_test_ratio\": 0.25,\n",
    "}"
   ]
  },
  {
   "attachments": {},
   "cell_type": "markdown",
   "metadata": {},
   "source": [
    "Now the dataset can be uploaded to the cloud"
   ]
  },
  {
   "cell_type": "code",
   "execution_count": 5,
   "metadata": {},
   "outputs": [
    {
     "name": "stdout",
     "output_type": "stream",
     "text": [
      "File resources/datasets/ukaea.csv is uploading.\n",
      "Processing dataset.\n",
      "Dataset fusion was processed.\n"
     ]
    }
   ],
   "source": [
    "tl.upload_dataset(file_train, dataset_id, verbose=True)"
   ]
  },
  {
   "attachments": {},
   "cell_type": "markdown",
   "metadata": {},
   "source": [
    "List all of the datasets under our username to check that the upload worked"
   ]
  },
  {
   "cell_type": "code",
   "execution_count": 6,
   "metadata": {},
   "outputs": [
    {
     "name": "stdout",
     "output_type": "stream",
     "text": [
      "Datasets:\n",
      "['data-error', 'data-error-std', 'fusion', 'full-matrix-stdv']\n"
     ]
    }
   ],
   "source": [
    "_ = tl.list_datasets(verbose=True)"
   ]
  },
  {
   "attachments": {},
   "cell_type": "markdown",
   "metadata": {},
   "source": [
    "Print some useful properties of the dataset"
   ]
  },
  {
   "cell_type": "code",
   "execution_count": 7,
   "metadata": {},
   "outputs": [
    {
     "name": "stdout",
     "output_type": "stream",
     "text": [
      "Dataset summary:\n",
      "                E1           E2           E3           n1           n2  \\\n",
      "count  4096.000000  4096.000000  4096.000000  4096.000000  4096.000000   \n",
      "mean      0.850000     1.100000     1.425000     0.002750     0.000550   \n",
      "std       0.086613     0.115484     0.187662     0.001299     0.000260   \n",
      "min       0.700046     0.900088     1.100129     0.000500     0.000100   \n",
      "25%       0.775034     1.000053     1.262581     0.001626     0.000325   \n",
      "50%       0.849975     1.099983     1.425016     0.002750     0.000550   \n",
      "75%       0.924985     1.199979     1.587442     0.003875     0.000775   \n",
      "max       0.999995     1.299965     1.749911     0.004999     0.001000   \n",
      "\n",
      "                 y0            y1            y2            y3            y4  \\\n",
      "count  4.096000e+03  4.096000e+03  4.096000e+03  4.096000e+03  4.096000e+03   \n",
      "mean   6.090767e+16  6.581552e+16  7.111414e+16  7.682121e+16  8.294281e+16   \n",
      "std    6.766648e+16  7.287118e+16  7.845608e+16  8.444440e+16  9.084136e+16   \n",
      "min    1.770814e+14  1.906529e+14  2.070506e+14  2.265005e+14  2.488682e+14   \n",
      "25%    3.877430e+15  4.260980e+15  4.682501e+15  5.143682e+15  5.641882e+15   \n",
      "50%    3.012261e+16  3.285778e+16  3.576527e+16  3.885821e+16  4.226683e+16   \n",
      "75%    1.058968e+17  1.144299e+17  1.235023e+17  1.335841e+17  1.443276e+17   \n",
      "max    2.439736e+17  2.621883e+17  2.819315e+17  3.032921e+17  3.260949e+17   \n",
      "\n",
      "       ...          y614          y615          y616          y617  \\\n",
      "count  ...  4.096000e+03  4.096000e+03  4.096000e+03  4.096000e+03   \n",
      "mean   ...  1.600563e+17  1.580974e+17  1.561767e+17  1.542981e+17   \n",
      "std    ...  1.361702e+17  1.345214e+17  1.328941e+17  1.313022e+17   \n",
      "min    ...  1.348349e+16  1.346910e+16  1.345470e+16  1.344031e+16   \n",
      "25%    ...  5.800204e+16  5.737635e+16  5.673774e+16  5.617397e+16   \n",
      "50%    ...  1.114475e+17  1.096935e+17  1.080493e+17  1.068302e+17   \n",
      "75%    ...  2.222905e+17  2.193898e+17  2.168209e+17  2.144785e+17   \n",
      "max    ...  7.679405e+17  7.599095e+17  7.518785e+17  7.438475e+17   \n",
      "\n",
      "               y618          y619          y620          y621          y622  \\\n",
      "count  4.096000e+03  4.096000e+03  4.096000e+03  4.096000e+03  4.096000e+03   \n",
      "mean   1.524755e+17  1.507050e+17  1.489922e+17  1.473383e+17  1.457752e+17   \n",
      "std    1.297505e+17  1.282383e+17  1.267707e+17  1.253688e+17  1.240561e+17   \n",
      "min    1.341846e+16  1.270107e+16  1.198367e+16  1.126628e+16  1.054889e+16   \n",
      "25%    5.558602e+16  5.496453e+16  5.442907e+16  5.397924e+16  5.348066e+16   \n",
      "50%    1.059216e+17  1.046750e+17  1.036962e+17  1.023633e+17  1.011395e+17   \n",
      "75%    2.118719e+17  2.091214e+17  2.064463e+17  2.040746e+17  2.015218e+17   \n",
      "max    7.358165e+17  7.277855e+17  7.200602e+17  7.132397e+17  7.064193e+17   \n",
      "\n",
      "               y623  \n",
      "count  4.096000e+03  \n",
      "mean   1.443126e+17  \n",
      "std    1.228202e+17  \n",
      "min    9.831497e+15  \n",
      "25%    5.310093e+16  \n",
      "50%    9.997263e+16  \n",
      "75%    1.990585e+17  \n",
      "max    6.995988e+17  \n",
      "\n",
      "[8 rows x 629 columns]\n"
     ]
    }
   ],
   "source": [
    "_ = tl.query_dataset(dataset_id, verbose=True)"
   ]
  },
  {
   "attachments": {},
   "cell_type": "markdown",
   "metadata": {},
   "source": [
    "Train the surrogate model, this step takes around 6 minutes."
   ]
  },
  {
   "cell_type": "code",
   "execution_count": 8,
   "metadata": {},
   "outputs": [
    {
     "name": "stdout",
     "output_type": "stream",
     "text": [
      "Model fusion has begun training.\n"
     ]
    }
   ],
   "source": [
    "tl.train_campaign(params, campaign_id, verbose=True)"
   ]
  },
  {
   "attachments": {},
   "cell_type": "markdown",
   "metadata": {},
   "source": [
    "List the campaigns again to ensure that training has been completed"
   ]
  },
  {
   "cell_type": "code",
   "execution_count": null,
   "metadata": {},
   "outputs": [],
   "source": [
    "_ = tl.list_campaigns(verbose=True)"
   ]
  },
  {
   "attachments": {},
   "cell_type": "markdown",
   "metadata": {},
   "source": [
    "Query the campaign to check how training has proceeded"
   ]
  },
  {
   "cell_type": "code",
   "execution_count": null,
   "metadata": {},
   "outputs": [],
   "source": [
    "_ = tl.query_campaign(campaign_id, verbose=True)"
   ]
  },
  {
   "attachments": {},
   "cell_type": "markdown",
   "metadata": {},
   "source": [
    "Evaluate the trained emulator on `X` ($E_1, E_2, E_3, n_1, n_2$) from the evaluation file"
   ]
  },
  {
   "cell_type": "code",
   "execution_count": null,
   "metadata": {},
   "outputs": [],
   "source": [
    "df_mean, df_std = tl.predict_campaign(file_eval, campaign_id, verbose=False)\n",
    "display(df_mean)\n",
    "display(df_std)"
   ]
  },
  {
   "attachments": {},
   "cell_type": "markdown",
   "metadata": {},
   "source": [
    "Plot the results for a few different `y` values to sanity check. These values correspond to the tritium desorption flux at different reactor temperatures: $D(T_i)$."
   ]
  },
  {
   "cell_type": "code",
   "execution_count": null,
   "metadata": {},
   "outputs": [],
   "source": [
    "# Parameters for plot\n",
    "color = \"blue\"\n",
    "alpha = 0.8\n",
    "xs = {\"E1\": r\"$E_{1}$\", \"E2\": r\"$E_{2}$\", \"E3\": r\"$E_{3}$\", \"n1\": r\"$n_{1}$\", \"n2\": r\"$n_{2}$\"}\n",
    "ys = {f\"y{i}\": fr\"$y_{{{i}}}$\" for i in [0, 100, 150]}\n",
    "\n",
    "# Plot some examples\n",
    "nrow, ncol = len(ys), len(xs)\n",
    "plt.subplots(nrow, ncol, figsize=(25, 10))\n",
    "nplot = 0\n",
    "for y, y_label in ys.items():\n",
    "    for x, x_label in xs.items():\n",
    "        nplot += 1\n",
    "        plt.subplot(nrow, ncol, nplot)\n",
    "        plt.errorbar(df_eval[x], df_mean[y], yerr=df_std[y], marker='.', lw=1, ls='None', color=color, alpha=alpha, label=\"Model\")\n",
    "        plt.plot(df_train[x], df_train[y], \".\", color=\"black\", alpha=0.1, label=\"Training data\")\n",
    "        plt.xlabel(x_label)\n",
    "        plt.ylabel(y_label)\n",
    "        if nplot==1: plt.legend()\n",
    "plt.show()"
   ]
  },
  {
   "attachments": {},
   "cell_type": "markdown",
   "metadata": {},
   "source": [
    "We are now in a position to plot the output of the trained surrogate model together with the \"truth\" from the evaluation file. The intensity of the blue regions correspond to the probability as predicted by the surrogate. It can be seen that the truth mainly goes through the regions of high probability as predicted by the model. Thus we have trained an accurate surrogate for the tritium desorption process. This training was done on the cloud and the surrogate has been stored and can be evaluated extremely quickly, with uncertainty predictions built into the modelling."
   ]
  },
  {
   "cell_type": "code",
   "execution_count": null,
   "metadata": {},
   "outputs": [],
   "source": [
    "# Parameters for plot\n",
    "error_inflation_factor = 1. # Factor to multiply error by for plotting\n",
    "y_fac = 18 # Factor to divide y by for plotting [log10]\n",
    "plot_eval = True\n",
    "data_alpha = 0.75\n",
    "plot_model_mean = True\n",
    "plot_model_bands = True\n",
    "plot_model_blur = False\n",
    "nsigs = [1, 2]\n",
    "model_alpha = 0.5\n",
    "n_model_blur = 100\n",
    "model_color = 'blue'\n",
    "number_of_training_examples = 0\n",
    "number_of_model_examples = 5\n",
    "\n",
    "# Plot results\n",
    "grid = df_grid.iloc[:, 0]\n",
    "plt.subplots()\n",
    "if (plot_model_blur or plot_model_bands) and not plot_model_mean: \n",
    "    plt.fill_between(grid, np.nan, np.nan, color=model_color, alpha=model_alpha, lw=0., label=\"Model predictions\")\n",
    "for example in range(number_of_training_examples): # Training examples\n",
    "    train = df_train[y_outputs].iloc[example]/10**y_fac\n",
    "    label = \"Example training data\" if example==0 else None\n",
    "    plt.plot(grid, train, color='black', alpha=0.5, label=label)\n",
    "for example in range(number_of_model_examples): # Model predictions\n",
    "    mean = df_mean[y_outputs].iloc[example]/10**y_fac\n",
    "    err = error_inflation_factor*df_std[y_outputs].iloc[example]/10**y_fac\n",
    "    if plot_eval and (file_eval == campaign_dir + \"test.csv\"):\n",
    "        eval = df_eval[y_outputs].iloc[example]/10**y_fac\n",
    "        label = \"Test data\" if example==0 else None\n",
    "        plt.plot(grid, eval, color='black', alpha=data_alpha, label=label)\n",
    "    if plot_model_bands:\n",
    "        for isig, nsig in enumerate(nsigs):\n",
    "            label = \"Model predictions\" if (isig == 0) and (example == 0) else None\n",
    "            plt.fill_between(grid, mean-nsig*err, mean+nsig*err, color=model_color, alpha=model_alpha/(isig+1), lw=0., label=label)\n",
    "    if plot_model_blur and not plot_model_bands:\n",
    "        alpha = tl.get_blur_alpha(n_model_blur, model_alpha)\n",
    "        dys = tl.get_blur_boundaries(n_model_blur)\n",
    "        for iy, dy in enumerate(dys):\n",
    "            label = \"Model predictions\" if (iy == 0) and (example == 0) else None\n",
    "            plt.fill_between(grid, mean-dy*err, mean+dy*err, color=model_color, alpha=alpha, lw=0., label=label)\n",
    "    if plot_model_mean:\n",
    "        label = \"Model predictions\" if (example==0) and (not plot_model_bands) and (not plot_model_blur) else None\n",
    "        plt.plot(grid, mean, color=model_color, label=label, alpha=model_alpha)\n",
    "plt.xlabel(r'Temperature [K]')\n",
    "plt.xlim((grid.min(), grid.max()))\n",
    "plt.ylabel(rf\"Desorption rate [$10^{{{y_fac}}}$ $m^{{{-2}}}$ $s^{{{-1}}}$]\")\n",
    "plt.ylim(bottom=0.)\n",
    "plt.legend()\n",
    "plt.show()"
   ]
  },
  {
   "attachments": {},
   "cell_type": "markdown",
   "metadata": {},
   "source": [
    "Finally, delete the campaign if necessary..."
   ]
  },
  {
   "cell_type": "code",
   "execution_count": null,
   "metadata": {},
   "outputs": [],
   "source": [
    "tl.delete_campaign(campaign_id, verbose=True)"
   ]
  },
  {
   "attachments": {},
   "cell_type": "markdown",
   "metadata": {},
   "source": [
    "... and delete the dataset if necessary."
   ]
  },
  {
   "cell_type": "code",
   "execution_count": null,
   "metadata": {},
   "outputs": [],
   "source": [
    "tl.delete_dataset(dataset_id, verbose=True)"
   ]
  }
 ],
 "metadata": {
  "kernelspec": {
   "display_name": "twinlab-client-um1gzrUq-py3.9",
   "language": "python",
   "name": "python3"
  },
  "language_info": {
   "codemirror_mode": {
    "name": "ipython",
    "version": 3
   },
   "file_extension": ".py",
   "mimetype": "text/x-python",
   "name": "python",
   "nbconvert_exporter": "python",
   "pygments_lexer": "ipython3",
   "version": "3.11.3"
  },
  "orig_nbformat": 4,
  "vscode": {
   "interpreter": {
    "hash": "8b4841770c9e34caa6ae18daa4abc2a1f1538c85b37a4e54ebb9908de806c0dc"
   }
  }
 },
 "nbformat": 4,
 "nbformat_minor": 2
}
